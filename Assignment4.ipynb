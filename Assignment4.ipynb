{
  "nbformat": 4,
  "nbformat_minor": 0,
  "metadata": {
    "colab": {
      "name": "Assignment4.ipynb",
      "provenance": [],
      "collapsed_sections": [],
      "toc_visible": true,
      "include_colab_link": true
    },
    "kernelspec": {
      "name": "python3",
      "display_name": "Python 3"
    }
  },
  "cells": [
    {
      "cell_type": "markdown",
      "metadata": {
        "id": "view-in-github",
        "colab_type": "text"
      },
      "source": [
        "<a href=\"https://colab.research.google.com/github/jbrouboni/Chalmers-Introduction-to-data-science-and-AI/blob/main/Assignment4.ipynb\" target=\"_parent\"><img src=\"https://colab.research.google.com/assets/colab-badge.svg\" alt=\"Open In Colab\"/></a>"
      ]
    },
    {
      "cell_type": "markdown",
      "metadata": {
        "id": "-sTsDfIVKsmL"
      },
      "source": [
        "#DAT405 Introduction to Data Science and AI \n",
        "##2020-2021, Reading Period 2\n",
        "## Assignment 4: Spam classification using Naïve Bayes \n",
        "There will be an overall grade for this assignment. To get a pass grade (grade 5), you need to pass items 1-3 below. To receive higher grades, finish items 4 and 5 as well. \n",
        "\n",
        "The exercise takes place in a notebook environment where you can chose to use Jupyter or Google Colabs. We recommend you use Google Colabs as it will facilitate remote group-work and makes the assignment less technical. \n",
        "Hints:\n",
        "You can execute certain linux shell commands by prefixing the command with `!`. You can insert Markdown cells and code cells. The first you can use for documenting and explaining your results the second you can use writing code snippets that execute the tasks required.  \n",
        "\n",
        "In this assignment you will implement a Naïve Bayes classifier in Python that will classify emails into spam and non-spam (“ham”) classes.  Your program should be able to train on a given set of spam and “ham” datasets. \n",
        "You will work with the datasets available at https://spamassassin.apache.org/old/publiccorpus/. There are three types of files in this location: \n",
        "-\teasy-ham: non-spam messages typically quite easy to differentiate from spam messages. \n",
        "-\thard-ham: non-spam messages more difficult to differentiate \n",
        "-\tspam: spam messages \n",
        "\n",
        "**Execute the cell below to download and extract the data into the environment of the notebook -- it will take a few seconds.** If you chose to use Jupyter notebooks you will have to run the commands in the cell below on your local computer, with Windows you can use 7zip (https://www.7-zip.org/download.html) to decompress the data.\n",
        "\n"
      ]
    },
    {
      "cell_type": "code",
      "metadata": {
        "id": "Wa37fBwRF-xe",
        "colab": {
          "base_uri": "https://localhost:8080/"
        },
        "outputId": "60fa9e2a-e287-49be-933d-a5becd2d820a"
      },
      "source": [
        "#Download and extract data\n",
        "!wget https://spamassassin.apache.org/old/publiccorpus/20021010_easy_ham.tar.bz2\n",
        "!wget https://spamassassin.apache.org/old/publiccorpus/20021010_hard_ham.tar.bz2\n",
        "!wget https://spamassassin.apache.org/old/publiccorpus/20021010_spam.tar.bz2\n",
        "!tar -xjf 20021010_easy_ham.tar.bz2\n",
        "!tar -xjf 20021010_hard_ham.tar.bz2\n",
        "!tar -xjf 20021010_spam.tar.bz2"
      ],
      "execution_count": 1,
      "outputs": [
        {
          "output_type": "stream",
          "text": [
            "--2020-12-01 20:42:16--  https://spamassassin.apache.org/old/publiccorpus/20021010_easy_ham.tar.bz2\n",
            "Resolving spamassassin.apache.org (spamassassin.apache.org)... 40.79.78.1, 95.216.24.32, 95.216.26.30, ...\n",
            "Connecting to spamassassin.apache.org (spamassassin.apache.org)|40.79.78.1|:443... connected.\n",
            "HTTP request sent, awaiting response... 200 OK\n",
            "Length: 1677144 (1.6M) [application/x-bzip2]\n",
            "Saving to: ‘20021010_easy_ham.tar.bz2.1’\n",
            "\n",
            "20021010_easy_ham.t 100%[===================>]   1.60M  --.-KB/s    in 0.1s    \n",
            "\n",
            "2020-12-01 20:42:16 (15.8 MB/s) - ‘20021010_easy_ham.tar.bz2.1’ saved [1677144/1677144]\n",
            "\n",
            "--2020-12-01 20:42:16--  https://spamassassin.apache.org/old/publiccorpus/20021010_hard_ham.tar.bz2\n",
            "Resolving spamassassin.apache.org (spamassassin.apache.org)... 40.79.78.1, 95.216.24.32, 95.216.26.30, ...\n",
            "Connecting to spamassassin.apache.org (spamassassin.apache.org)|40.79.78.1|:443... connected.\n",
            "HTTP request sent, awaiting response... 200 OK\n",
            "Length: 1021126 (997K) [application/x-bzip2]\n",
            "Saving to: ‘20021010_hard_ham.tar.bz2.1’\n",
            "\n",
            "20021010_hard_ham.t 100%[===================>] 997.19K  --.-KB/s    in 0.1s    \n",
            "\n",
            "2020-12-01 20:42:16 (9.11 MB/s) - ‘20021010_hard_ham.tar.bz2.1’ saved [1021126/1021126]\n",
            "\n",
            "--2020-12-01 20:42:16--  https://spamassassin.apache.org/old/publiccorpus/20021010_spam.tar.bz2\n",
            "Resolving spamassassin.apache.org (spamassassin.apache.org)... 40.79.78.1, 95.216.24.32, 95.216.26.30, ...\n",
            "Connecting to spamassassin.apache.org (spamassassin.apache.org)|40.79.78.1|:443... connected.\n",
            "HTTP request sent, awaiting response... 200 OK\n",
            "Length: 1192582 (1.1M) [application/x-bzip2]\n",
            "Saving to: ‘20021010_spam.tar.bz2.1’\n",
            "\n",
            "20021010_spam.tar.b 100%[===================>]   1.14M  --.-KB/s    in 0.1s    \n",
            "\n",
            "2020-12-01 20:42:17 (10.8 MB/s) - ‘20021010_spam.tar.bz2.1’ saved [1192582/1192582]\n",
            "\n"
          ],
          "name": "stdout"
        }
      ]
    },
    {
      "cell_type": "markdown",
      "metadata": {
        "id": "tdH1XTepLjZ3"
      },
      "source": [
        "*The* data is now in the three folders `easy_ham`, `hard_ham`, and `spam`."
      ]
    },
    {
      "cell_type": "code",
      "metadata": {
        "id": "A53Gw00fBLG2",
        "colab": {
          "base_uri": "https://localhost:8080/"
        },
        "outputId": "31c46b5f-7f04-4ace-9eff-43327948fd81"
      },
      "source": [
        "!ls -lah"
      ],
      "execution_count": null,
      "outputs": [
        {
          "output_type": "stream",
          "text": [
            "total 4.0M\n",
            "drwxr-xr-x 1 root root 4.0K Dec  1 13:26 .\n",
            "drwxr-xr-x 1 root root 4.0K Dec  1 13:24 ..\n",
            "-rw-r--r-- 1 root root 1.6M Jun 29  2004 20021010_easy_ham.tar.bz2\n",
            "-rw-r--r-- 1 root root 998K Dec 16  2004 20021010_hard_ham.tar.bz2\n",
            "-rw-r--r-- 1 root root 1.2M Jun 29  2004 20021010_spam.tar.bz2\n",
            "drwxr-xr-x 1 root root 4.0K Nov 20 17:15 .config\n",
            "drwx--x--x 2  500  500 168K Oct 10  2002 easy_ham\n",
            "drwx--x--x 2 1000 1000  20K Dec 16  2004 hard_ham\n",
            "drwxr-xr-x 1 root root 4.0K Nov 13 17:33 sample_data\n",
            "drwxr-xr-x 2  500  500  36K Oct 10  2002 spam\n"
          ],
          "name": "stdout"
        }
      ]
    },
    {
      "cell_type": "markdown",
      "metadata": {
        "id": "DGlWPVnSNzT7"
      },
      "source": [
        "###1. Preprocessing: \n",
        "1.\tNote that the email files contain a lot of extra information, besides the actual message. Ignore that for now and run on the entire text. Further down (in the higher-grade part), you will be asked to filter out the headers and footers. \n",
        "2.\tWe don’t want to train and test on the same data. Split the spam and the ham datasets in a training set and a test set. (`hamtrain`, `spamtrain`, `hamtest`, and `spamtest`)\n"
      ]
    },
    {
      "cell_type": "code",
      "metadata": {
        "id": "c6ixoSkazsKO"
      },
      "source": [
        "import os\n",
        "import email\n",
        "import email.policy\n",
        "import nltk \n",
        "import numpy as np\n",
        "from sklearn.naive_bayes import MultinomialNB\n",
        "from sklearn.naive_bayes import BernoulliNB\n",
        "from sklearn.model_selection import train_test_split\n",
        "from sklearn.feature_extraction.text import CountVectorizer\n",
        "import pandas as pd\n",
        "\n"
      ],
      "execution_count": 1,
      "outputs": []
    },
    {
      "cell_type": "code",
      "metadata": {
        "id": "J2sllUWXKblD",
        "colab": {
          "base_uri": "https://localhost:8080/"
        },
        "outputId": "ac80fd05-0a8e-4dff-ddf0-c794baa3b17f"
      },
      "source": [
        "#pre-processing code here\n",
        "PATH=os.getcwd() #change it \n",
        "EASY_HAM_DIR = os.path.join(PATH, \"easy_ham\")\n",
        "HARD_HAM_DIR = os.path.join(PATH, \"hard_ham\")\n",
        "SPAM_DIR = os.path.join(PATH, \"spam\")\n",
        "easy_ham_filenames = [name for name in sorted(os.listdir(EASY_HAM_DIR))]\n",
        "hard_ham_filenames = [name for name in sorted(os.listdir(HARD_HAM_DIR))]\n",
        "spam_filenames = [name for name in sorted(os.listdir(SPAM_DIR))]\n",
        "\n",
        "print(len(easy_ham_filenames))\n",
        "print(len(hard_ham_filenames))\n",
        "print(len(spam_filenames))\n",
        "\n",
        "#Loading email in spam,easy and hard ham!\n",
        "\n",
        "def load_email(is_spam, filename, spam_path=PATH):\n",
        "    directory = \"spam\" if is_spam else \"easy_ham\"\n",
        "    with open(os.path.join(spam_path, directory, filename), \"rb\") as f:\n",
        "        return email.parser.BytesParser(policy=email.policy.default).parse(f)\n",
        "def load_hard_email(is_spam, filename, spam_path=PATH):\n",
        "    directory = \"spam\" if is_spam else \"hard_ham\"\n",
        "    with open(os.path.join(spam_path, directory, filename), \"rb\") as f:\n",
        "        return email.parser.BytesParser(policy=email.policy.default).parse(f)\n",
        "\n",
        "easy_ham_emails = [load_email(is_spam=False, filename=name) for name in easy_ham_filenames]\n",
        "hard_ham_emails = [load_hard_email(is_spam=False, filename=name) for name in hard_ham_filenames]\n",
        "spam_emails = [load_email(is_spam=True, filename=name) for name in spam_filenames]\n",
        "\n",
        "def email_to_text(email):\n",
        "    for part in email.walk():\n",
        "        ctype = part.get_content_type()\n",
        "        if not ctype in (\"text/plain\", \"text/html\"):\n",
        "            continue\n",
        "        try:\n",
        "            content = part.get_content()\n",
        "        except: # in case of encoding issues\n",
        "            content = str(part.get_payload())\n",
        "        if ctype == \"text/plain\":\n",
        "            return content\n",
        "        else:\n",
        "            html = content\n",
        "\n",
        "for i in range(len(easy_ham_emails)):\n",
        "  easy_ham_emails[i]=email_to_text(easy_ham_emails[i])\n",
        "for i in range(len(hard_ham_emails)):\n",
        "  hard_ham_emails[i]=email_to_text(hard_ham_emails[i])\n",
        "for i in range(len(spam_emails)):\n",
        "  spam_emails[i]=email_to_text(spam_emails[i])\n",
        "\n",
        "\n",
        "easy_ham = [] \n",
        "for val in easy_ham_emails: \n",
        "  if (val != None):\n",
        "    easy_ham.append(val)  \n",
        "\n",
        "hard_ham = [] \n",
        "for val in hard_ham_emails: \n",
        "  if (val != None):\n",
        "    hard_ham.append(val)  \n",
        "\n",
        "spam = []\n",
        "for val in spam_emails: \n",
        "  if (val != None):\n",
        "    spam.append(val) \n",
        "\n",
        "print(len(easy_ham))\n",
        "print(len(hard_ham))\n",
        "print(len(spam)) "
      ],
      "execution_count": 2,
      "outputs": [
        {
          "output_type": "stream",
          "text": [
            "2551\n",
            "250\n",
            "501\n",
            "2551\n",
            "128\n",
            "292\n"
          ],
          "name": "stdout"
        }
      ]
    },
    {
      "cell_type": "code",
      "metadata": {
        "id": "9kvsGMiCIQ7o"
      },
      "source": [
        "hamdataset=np.vstack([easy_ham+hard_ham,np.zeros(2679)]).T\n",
        "hamdataset[:,0:1].shape"
      ],
      "execution_count": null,
      "outputs": []
    },
    {
      "cell_type": "code",
      "metadata": {
        "colab": {
          "base_uri": "https://localhost:8080/",
          "height": 231
        },
        "id": "nhnG9DBKyUtn",
        "outputId": "f7f04096-ccf5-4b17-f730-829caf3e5244"
      },
      "source": [
        "hamdataset=np.vstack([easy_ham+hard_ham,np.zeros(2679)]).T\n",
        "spamdataset=np.vstack([spam,np.ones(292)]).T\n",
        "\n",
        "\n",
        "dataset=easy_ham+hard_ham+spam\n",
        "target=np.zeros(2971)\n",
        "target[2679:2971] = 1\n",
        "whole_dataset=np.vstack([dataset,target]).T\n",
        "\n",
        "whole_dataset.shape\n",
        "df=pd.DataFrame(whole_dataset,columns =['Mail','Class']) \n",
        "#df\n",
        "vectorizer = CountVectorizer()\n",
        "counts = vectorizer.fit_transform(df['Mail'].values)\n",
        "targets=df['Class'].values\n",
        "\n",
        "#hamtrain, hamtest, target_train, target_train_test = train_test_split( hamdataset[0:1],hamdataset[:,2], test_size=0.7, random_state=42)\n",
        "\n",
        "\n",
        "\n"
      ],
      "execution_count": 4,
      "outputs": [
        {
          "output_type": "error",
          "ename": "NameError",
          "evalue": "ignored",
          "traceback": [
            "\u001b[0;31m---------------------------------------------------------------------------\u001b[0m",
            "\u001b[0;31mNameError\u001b[0m                                 Traceback (most recent call last)",
            "\u001b[0;32m<ipython-input-4-daef0abcee1a>\u001b[0m in \u001b[0;36m<module>\u001b[0;34m()\u001b[0m\n\u001b[1;32m      7\u001b[0m \u001b[0mtarget\u001b[0m\u001b[0;34m[\u001b[0m\u001b[0;36m2679\u001b[0m\u001b[0;34m:\u001b[0m\u001b[0;36m2971\u001b[0m\u001b[0;34m]\u001b[0m \u001b[0;34m=\u001b[0m \u001b[0;36m1\u001b[0m\u001b[0;34m\u001b[0m\u001b[0;34m\u001b[0m\u001b[0m\n\u001b[1;32m      8\u001b[0m \u001b[0mwhole_dataset\u001b[0m\u001b[0;34m=\u001b[0m\u001b[0mnp\u001b[0m\u001b[0;34m.\u001b[0m\u001b[0mvstack\u001b[0m\u001b[0;34m(\u001b[0m\u001b[0;34m[\u001b[0m\u001b[0mdataset\u001b[0m\u001b[0;34m,\u001b[0m\u001b[0mtarget\u001b[0m\u001b[0;34m]\u001b[0m\u001b[0;34m)\u001b[0m\u001b[0;34m.\u001b[0m\u001b[0mT\u001b[0m\u001b[0;34m\u001b[0m\u001b[0;34m\u001b[0m\u001b[0m\n\u001b[0;32m----> 9\u001b[0;31m \u001b[0mhamset\u001b[0m\u001b[0;34m\u001b[0m\u001b[0;34m\u001b[0m\u001b[0m\n\u001b[0m\u001b[1;32m     10\u001b[0m \u001b[0mwhole_dataset\u001b[0m\u001b[0;34m.\u001b[0m\u001b[0mshape\u001b[0m\u001b[0;34m\u001b[0m\u001b[0;34m\u001b[0m\u001b[0m\n\u001b[1;32m     11\u001b[0m \u001b[0mdf\u001b[0m\u001b[0;34m=\u001b[0m\u001b[0mpd\u001b[0m\u001b[0;34m.\u001b[0m\u001b[0mDataFrame\u001b[0m\u001b[0;34m(\u001b[0m\u001b[0mwhole_dataset\u001b[0m\u001b[0;34m,\u001b[0m\u001b[0mcolumns\u001b[0m \u001b[0;34m=\u001b[0m\u001b[0;34m[\u001b[0m\u001b[0;34m'Mail'\u001b[0m\u001b[0;34m,\u001b[0m\u001b[0;34m'Class'\u001b[0m\u001b[0;34m]\u001b[0m\u001b[0;34m)\u001b[0m\u001b[0;34m\u001b[0m\u001b[0;34m\u001b[0m\u001b[0m\n",
            "\u001b[0;31mNameError\u001b[0m: name 'hamset' is not defined"
          ]
        }
      ]
    },
    {
      "cell_type": "code",
      "metadata": {
        "colab": {
          "base_uri": "https://localhost:8080/"
        },
        "id": "_zta2X4m-3u2",
        "outputId": "377249df-d9ca-4d37-fad0-773c7f08fb0b"
      },
      "source": [
        "clfMNB=MultinomialNB()\n",
        "clfMNB.fit(counts,targets)\n",
        "\n",
        "clfMNB=MultinomialNB()\n",
        "clfMNB.fit(counts,targets)"
      ],
      "execution_count": 71,
      "outputs": [
        {
          "output_type": "execute_result",
          "data": {
            "text/plain": [
              "MultinomialNB(alpha=1.0, class_prior=None, fit_prior=True)"
            ]
          },
          "metadata": {
            "tags": []
          },
          "execution_count": 71
        }
      ]
    },
    {
      "cell_type": "code",
      "metadata": {
        "colab": {
          "base_uri": "https://localhost:8080/"
        },
        "id": "d7Oc3vUQ5J7B",
        "outputId": "fc952f94-b9df-4db8-f42c-a52b8254fcb7"
      },
      "source": [
        "vectorizer = CountVectorizer()\n",
        "vector = vectorizer.fit_transform(easy_ham)\n",
        "vectorizer2 = CountVectorizer()\n",
        "vector2 = vectorizer2.fit_transform(hard_ham)\n",
        "vectorizer3 = CountVectorizer()\n",
        "vector3 = vectorizer.fit_transform(spam)\n",
        "\n",
        "print(vector.shape)\n",
        "print(vector2.shape)\n",
        "print(vector3.shape)"
      ],
      "execution_count": 22,
      "outputs": [
        {
          "output_type": "stream",
          "text": [
            "(2551, 29222)\n",
            "(128, 18706)\n",
            "(292, 14940)\n"
          ],
          "name": "stdout"
        }
      ]
    },
    {
      "cell_type": "markdown",
      "metadata": {
        "id": "mnbrbI0_OKCF"
      },
      "source": [
        "###2. Write a Python program that: \n",
        "1.\tUses four datasets (`hamtrain`, `spamtrain`, `hamtest`, and `spamtest`) \n",
        "2.\tTrains a Naïve Bayes classifier (e.g. Sklearn) on `hamtrain` and `spamtrain`, that classifies the test sets and reports True Positive and False Negative rates on the `hamtest` and `spamtest` datasets. You can use `CountVectorizer` to transform the email texts into vectors. Please note that there are different types of Naïve Bayes Classifier in SKlearn ([Documentation here](https://scikit-learn.org/stable/modules/naive_bayes.html)). Test two of these classifiers that are well suited for this problem\n",
        "- Multinomial Naive Bayes  \n",
        "- Bernoulli Naive Bayes. \n",
        "\n",
        "Please inspect the documentation to ensure input to the classifiers is appropriate. Discuss the differences between these two classifiers. \n",
        "\n",
        "\n",
        "\n"
      ]
    },
    {
      "cell_type": "markdown",
      "metadata": {
        "id": "k3OdWOmh5Qch"
      },
      "source": [
        "1) Creation of the four datasets(hamtrain, spamtrain, hamtest, and spamtest)"
      ]
    },
    {
      "cell_type": "code",
      "metadata": {
        "colab": {
          "base_uri": "https://localhost:8080/",
          "height": 357
        },
        "id": "ikAJ8djkVFOO",
        "outputId": "6f3a043d-e8d0-479a-93a7-8743535de4a7"
      },
      "source": [
        "#hamtrain,hamtest,spamtrain,spamtest,  = train_test_split(easy_ham_data,target, test_size=0.3, random_state=111)\n",
        "\n",
        "#tfidf_transformer = TfidfTransformer()\n",
        "#X_train_tfidf = tfidf_transformer.fit_transform(X_train_counts)\n",
        "#X_train_tfidf.shape\n"
      ],
      "execution_count": 25,
      "outputs": [
        {
          "output_type": "error",
          "ename": "ValueError",
          "evalue": "ignored",
          "traceback": [
            "\u001b[0;31m---------------------------------------------------------------------------\u001b[0m",
            "\u001b[0;31mValueError\u001b[0m                                Traceback (most recent call last)",
            "\u001b[0;32m<ipython-input-25-9a58ec787909>\u001b[0m in \u001b[0;36m<module>\u001b[0;34m()\u001b[0m\n\u001b[0;32m----> 1\u001b[0;31m \u001b[0mhamtrain\u001b[0m\u001b[0;34m,\u001b[0m\u001b[0mhamtest\u001b[0m\u001b[0;34m,\u001b[0m\u001b[0mspamtrain\u001b[0m\u001b[0;34m,\u001b[0m\u001b[0mspamtest\u001b[0m\u001b[0;34m,\u001b[0m  \u001b[0;34m=\u001b[0m \u001b[0mtrain_test_split\u001b[0m\u001b[0;34m(\u001b[0m\u001b[0measy_ham_data\u001b[0m\u001b[0;34m,\u001b[0m\u001b[0mspam_data\u001b[0m\u001b[0;34m,\u001b[0m \u001b[0mtest_size\u001b[0m\u001b[0;34m=\u001b[0m\u001b[0;36m0.3\u001b[0m\u001b[0;34m,\u001b[0m \u001b[0mrandom_state\u001b[0m\u001b[0;34m=\u001b[0m\u001b[0;36m111\u001b[0m\u001b[0;34m)\u001b[0m\u001b[0;34m\u001b[0m\u001b[0;34m\u001b[0m\u001b[0m\n\u001b[0m\u001b[1;32m      2\u001b[0m \u001b[0;31m#tfidf_transformer = TfidfTransformer()\u001b[0m\u001b[0;34m\u001b[0m\u001b[0;34m\u001b[0m\u001b[0;34m\u001b[0m\u001b[0m\n\u001b[1;32m      3\u001b[0m \u001b[0;31m#X_train_tfidf = tfidf_transformer.fit_transform(X_train_counts)\u001b[0m\u001b[0;34m\u001b[0m\u001b[0;34m\u001b[0m\u001b[0;34m\u001b[0m\u001b[0m\n\u001b[1;32m      4\u001b[0m \u001b[0;31m#X_train_tfidf.shape\u001b[0m\u001b[0;34m\u001b[0m\u001b[0;34m\u001b[0m\u001b[0;34m\u001b[0m\u001b[0m\n",
            "\u001b[0;32m/usr/local/lib/python3.6/dist-packages/sklearn/model_selection/_split.py\u001b[0m in \u001b[0;36mtrain_test_split\u001b[0;34m(*arrays, **options)\u001b[0m\n\u001b[1;32m   2116\u001b[0m         \u001b[0;32mraise\u001b[0m \u001b[0mTypeError\u001b[0m\u001b[0;34m(\u001b[0m\u001b[0;34m\"Invalid parameters passed: %s\"\u001b[0m \u001b[0;34m%\u001b[0m \u001b[0mstr\u001b[0m\u001b[0;34m(\u001b[0m\u001b[0moptions\u001b[0m\u001b[0;34m)\u001b[0m\u001b[0;34m)\u001b[0m\u001b[0;34m\u001b[0m\u001b[0;34m\u001b[0m\u001b[0m\n\u001b[1;32m   2117\u001b[0m \u001b[0;34m\u001b[0m\u001b[0m\n\u001b[0;32m-> 2118\u001b[0;31m     \u001b[0marrays\u001b[0m \u001b[0;34m=\u001b[0m \u001b[0mindexable\u001b[0m\u001b[0;34m(\u001b[0m\u001b[0;34m*\u001b[0m\u001b[0marrays\u001b[0m\u001b[0;34m)\u001b[0m\u001b[0;34m\u001b[0m\u001b[0;34m\u001b[0m\u001b[0m\n\u001b[0m\u001b[1;32m   2119\u001b[0m \u001b[0;34m\u001b[0m\u001b[0m\n\u001b[1;32m   2120\u001b[0m     \u001b[0mn_samples\u001b[0m \u001b[0;34m=\u001b[0m \u001b[0m_num_samples\u001b[0m\u001b[0;34m(\u001b[0m\u001b[0marrays\u001b[0m\u001b[0;34m[\u001b[0m\u001b[0;36m0\u001b[0m\u001b[0;34m]\u001b[0m\u001b[0;34m)\u001b[0m\u001b[0;34m\u001b[0m\u001b[0;34m\u001b[0m\u001b[0m\n",
            "\u001b[0;32m/usr/local/lib/python3.6/dist-packages/sklearn/utils/validation.py\u001b[0m in \u001b[0;36mindexable\u001b[0;34m(*iterables)\u001b[0m\n\u001b[1;32m    246\u001b[0m     \"\"\"\n\u001b[1;32m    247\u001b[0m     \u001b[0mresult\u001b[0m \u001b[0;34m=\u001b[0m \u001b[0;34m[\u001b[0m\u001b[0m_make_indexable\u001b[0m\u001b[0;34m(\u001b[0m\u001b[0mX\u001b[0m\u001b[0;34m)\u001b[0m \u001b[0;32mfor\u001b[0m \u001b[0mX\u001b[0m \u001b[0;32min\u001b[0m \u001b[0miterables\u001b[0m\u001b[0;34m]\u001b[0m\u001b[0;34m\u001b[0m\u001b[0;34m\u001b[0m\u001b[0m\n\u001b[0;32m--> 248\u001b[0;31m     \u001b[0mcheck_consistent_length\u001b[0m\u001b[0;34m(\u001b[0m\u001b[0;34m*\u001b[0m\u001b[0mresult\u001b[0m\u001b[0;34m)\u001b[0m\u001b[0;34m\u001b[0m\u001b[0;34m\u001b[0m\u001b[0m\n\u001b[0m\u001b[1;32m    249\u001b[0m     \u001b[0;32mreturn\u001b[0m \u001b[0mresult\u001b[0m\u001b[0;34m\u001b[0m\u001b[0;34m\u001b[0m\u001b[0m\n\u001b[1;32m    250\u001b[0m \u001b[0;34m\u001b[0m\u001b[0m\n",
            "\u001b[0;32m/usr/local/lib/python3.6/dist-packages/sklearn/utils/validation.py\u001b[0m in \u001b[0;36mcheck_consistent_length\u001b[0;34m(*arrays)\u001b[0m\n\u001b[1;32m    210\u001b[0m     \u001b[0;32mif\u001b[0m \u001b[0mlen\u001b[0m\u001b[0;34m(\u001b[0m\u001b[0muniques\u001b[0m\u001b[0;34m)\u001b[0m \u001b[0;34m>\u001b[0m \u001b[0;36m1\u001b[0m\u001b[0;34m:\u001b[0m\u001b[0;34m\u001b[0m\u001b[0;34m\u001b[0m\u001b[0m\n\u001b[1;32m    211\u001b[0m         raise ValueError(\"Found input variables with inconsistent numbers of\"\n\u001b[0;32m--> 212\u001b[0;31m                          \" samples: %r\" % [int(l) for l in lengths])\n\u001b[0m\u001b[1;32m    213\u001b[0m \u001b[0;34m\u001b[0m\u001b[0m\n\u001b[1;32m    214\u001b[0m \u001b[0;34m\u001b[0m\u001b[0m\n",
            "\u001b[0;31mValueError\u001b[0m: Found input variables with inconsistent numbers of samples: [2551, 292]"
          ]
        }
      ]
    },
    {
      "cell_type": "code",
      "metadata": {
        "id": "WOT8kgPfPYcf"
      },
      "source": [
        ""
      ],
      "execution_count": 33,
      "outputs": []
    },
    {
      "cell_type": "markdown",
      "metadata": {
        "id": "nI1bPDCvQxen"
      },
      "source": [
        "Your discussion here"
      ]
    },
    {
      "cell_type": "markdown",
      "metadata": {
        "id": "wDFS3uFFUcS7"
      },
      "source": [
        "### 3.Run your program on \n",
        "-\tSpam versus easy-ham \n",
        "-\tSpam versus hard-ham."
      ]
    },
    {
      "cell_type": "code",
      "metadata": {
        "id": "gool_zb8Qzzy"
      },
      "source": [
        "#Code to report results here"
      ],
      "execution_count": null,
      "outputs": []
    },
    {
      "cell_type": "markdown",
      "metadata": {
        "id": "TkfQWBB4UhYd"
      },
      "source": [
        "###4.\tTo avoid classification based on common and uninformative words it is common to filter these out. \n",
        "\n",
        "**a.** Argue why this may be useful. Try finding the words that are too common/uncommon in the dataset. \n",
        "\n",
        "**b.** Use the parameters in Sklearn’s `CountVectorizer` to filter out these words. Update the program from point 3 and run it on your data and report your results.\n",
        "\n",
        "You have two options to do this in Sklearn: either using the words found in part (a) or letting Sklearn do it for you. Argue for your decision-making.\n"
      ]
    },
    {
      "cell_type": "code",
      "metadata": {
        "id": "qt7ELzEqUfas"
      },
      "source": [
        ""
      ],
      "execution_count": null,
      "outputs": []
    },
    {
      "cell_type": "markdown",
      "metadata": {
        "id": "zcyVfOZFU4F_"
      },
      "source": [
        "###5. Eeking out further performance\n",
        "Filter out the headers and footers of the emails before you run on them. The format may vary somewhat between emails, which can make this a bit tricky, so perfect filtering is not required. Run your program again and answer the following questions: \n",
        "-\tDoes the result improve from 3 and 4? \n",
        "- The split of the data set into a training set and a test set can lead to very skewed results. Why is this, and do you have suggestions on remedies? \n",
        "- What do you expect would happen if your training set were mostly spam messages while your test set were mostly ham messages? \n",
        "\n",
        "Re-estimate your classifier using `fit_prior` parameter set to `false`, and answer the following questions:\n",
        "- What does this parameter mean?\n",
        "- How does this alter the predictions? Discuss why or why not."
      ]
    },
    {
      "cell_type": "code",
      "metadata": {
        "id": "s_nyGug9U4f3"
      },
      "source": [
        ""
      ],
      "execution_count": null,
      "outputs": []
    },
    {
      "cell_type": "markdown",
      "metadata": {
        "id": "ND6FKoexVAhW"
      },
      "source": [
        "### What to report and how to hand in.\n",
        "\n",
        "- You will need to clearly report all results in the notebook in a clear and appropriate way, either using plots or code output (f.x. \"print statements\"). \n",
        "- The notebook must be reproducible, that means, we must be able to use the `Run all` function from the `Runtime` menu and reproduce all your results. **Please check this before handing in.** \n",
        "- Save the notebook and share a link to the notebook (Press share in upper left corner, and use `Get link` option. **Please make sure to allow all with the link to open and edit.**\n",
        "- Edits made after submission deadline will be ignored, graders will recover the last saved version before deadline from the revisions history.\n",
        "- **Please make sure all cells are executed and all the output is clearly readable/visible to anybody opening the notebook.**"
      ]
    },
    {
      "cell_type": "code",
      "metadata": {
        "id": "8bI3z_spVacz"
      },
      "source": [
        ""
      ],
      "execution_count": null,
      "outputs": []
    }
  ]
}